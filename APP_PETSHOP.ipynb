{
  "nbformat": 4,
  "nbformat_minor": 0,
  "metadata": {
    "colab": {
      "name": "APP PETSHOP.ipynb",
      "provenance": [],
      "authorship_tag": "ABX9TyO9d4LkXswgFNirMY5MCnxC",
      "include_colab_link": true
    },
    "kernelspec": {
      "name": "python3",
      "display_name": "Python 3"
    },
    "language_info": {
      "name": "python"
    }
  },
  "cells": [
    {
      "cell_type": "markdown",
      "metadata": {
        "id": "view-in-github",
        "colab_type": "text"
      },
      "source": [
        "<a href=\"https://colab.research.google.com/github/JocimarLopess/APP-SERVI-O-DE-PETSHOP/blob/main/APP_PETSHOP.ipynb\" target=\"_parent\"><img src=\"https://colab.research.google.com/assets/colab-badge.svg\" alt=\"Open In Colab\"/></a>"
      ]
    },
    {
      "cell_type": "markdown",
      "source": [
        "APP PARA SOLICITAÇÃO DE SERVIÇO DE PETSHOP"
      ],
      "metadata": {
        "id": "NnsnfoiZ7WmU"
      }
    },
    {
      "cell_type": "code",
      "execution_count": null,
      "metadata": {
        "id": "2mEo0ObU7Sbv"
      },
      "outputs": [],
      "source": [
        "#--------COMEÇO DA FUNÇÃO SERVICOCAO---------\n",
        "def servicoCao():\n",
        "  while True:\n",
        "    servicoC = input(\"Escolha o serviço desejado:\\nBA - Banho\\nTO - Tosa\\nBT - Banho e Tosa\\n>>\")\n",
        "    if servicoC == \"BA\":\n",
        "      return 10.00\n",
        "    elif servicoC == \"TO\":\n",
        "      return 20.00\n",
        "    elif servicoC == \"BT\":\n",
        "      return 25.00\n",
        "    else:\n",
        "      print(\"Pare de digitar serviços que não existem. Tente de novo\")\n",
        "      continue\n",
        "\n",
        "\n",
        "#-------------FIM DA FUNÇÃO SERVICOCAO-------\n",
        "#------------COMEÇO DA FUNÇÃO PESOCAO--------\n",
        "def pesoCao():\n",
        "  while True:\n",
        "    try:\n",
        "      pesoC = float (input(\"Entre com o peso do cachorro: \"))\n",
        "      if 0 <= pesoC <= 10:\n",
        "        return 1.5\n",
        "      elif (pesoC > 10) and (pesoC <= 20):\n",
        "        return 2.0\n",
        "      elif 20 < pesoC <= 30:\n",
        "        return 2.5\n",
        "      elif 30 < pesoC <= 40:\n",
        "        return 3.0\n",
        "      elif pesoC > 40:\n",
        "        return 4.0\n",
        "      else:\n",
        "        print(\"Não aceitamos cachorros com peso negativo. Tente novamente..\")\n",
        "        continue\n",
        "    except ValueError:\n",
        "      print(\"Pare de digitar valores não numéricos. Tente novamente\")\n",
        "      continue\n",
        "\n",
        "#-----------FIM DA FUNÇÃO PESOCAO------------\n",
        "#------------COMEÇO DA FUNÇÃO PELOCAO--------\n",
        "def peloCao():\n",
        "  while True:\n",
        "    peloC = input(\"Entre com o pelo do cachorro:\\nC - Curto\\nM - Médio\\nL - Longo\\n>>\")\n",
        "    if peloC == \"C\":\n",
        "      return 1.5\n",
        "    elif peloC == \"M\":\n",
        "      return 2.0\n",
        "    elif peloC == \"L\":\n",
        "      return 2.5\n",
        "    else:\n",
        "      print(\"Pare de digitar serviços que não existem. Tente de novo\")\n",
        "      continue\n",
        "\n",
        "#--------------FIM DA FUNÇÃO PELOCAO---------\n",
        "#----------------COMEÇO DA MAIN--------------\n",
        "print(\"Bem vindo ao PetShop do Jocimar Lopes\")\n",
        "servico = servicoCao()\n",
        "peso = pesoCao()\n",
        "pelo = peloCao()\n",
        "total = servico * peso * pelo\n",
        "print(\"O valor total foi de: R$ {:.2f}\".format(total))\n",
        "\n",
        "\n",
        "\n",
        "#----------------FIM DA MAIN-----------------"
      ]
    }
  ]
}